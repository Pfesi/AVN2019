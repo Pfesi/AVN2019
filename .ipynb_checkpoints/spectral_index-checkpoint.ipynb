{
 "cells": [
  {
   "cell_type": "markdown",
   "metadata": {
    "collapsed": true
   },
   "source": [
    "# Two point Spectral index"
   ]
  },
  {
   "cell_type": "markdown",
   "metadata": {},
   "source": [
    "Calculate the two point spectral index between two frequencies.\n",
    "\n",
    "We will be following the -ve alpha convention, where:\n",
    "\n",
    "$$ \\alpha = \\frac{log(S_{1}/S_{2})}{log(v_{1}/v_{2})}$$\n",
    "\n",
    "$\\alpha = -2 : Thermal$\n"
   ]
  },
  {
   "cell_type": "code",
   "execution_count": 8,
   "metadata": {},
   "outputs": [
    {
     "name": "stdout",
     "output_type": "stream",
     "text": [
      "The index is: 0.188\n"
     ]
    }
   ],
   "source": [
    "#Spectral index between 12 GHz and 5 GHz\n",
    "\n",
    "import numpy as np\n",
    "\n",
    "s1 = 5.467 \n",
    "s2 = 4.587\n",
    "v1 = 4800.000\n",
    "v2 = 12218.593\n",
    "\n",
    "alpha = np.log(s1/s2) / np.log(v2/v1)\n",
    "\n",
    "print \"The index is: %.3f\" %alpha"
   ]
  },
  {
   "cell_type": "code",
   "execution_count": null,
   "metadata": {
    "collapsed": true
   },
   "outputs": [],
   "source": [
    "#Spectral index between 12 GHz and 8 GHz\n",
    "\n"
   ]
  },
  {
   "cell_type": "code",
   "execution_count": null,
   "metadata": {
    "collapsed": true
   },
   "outputs": [],
   "source": [
    "#Spectral index between 12 GHz and 2 GHz\n",
    "\n"
   ]
  },
  {
   "cell_type": "code",
   "execution_count": null,
   "metadata": {
    "collapsed": true
   },
   "outputs": [],
   "source": [
    "#Spectral index between 8 GHz and 5 GHz\n",
    "\n"
   ]
  },
  {
   "cell_type": "code",
   "execution_count": null,
   "metadata": {
    "collapsed": true
   },
   "outputs": [],
   "source": [
    "#Spectral index between 8 GHz and 2 GHz\n",
    "\n"
   ]
  },
  {
   "cell_type": "code",
   "execution_count": null,
   "metadata": {
    "collapsed": true
   },
   "outputs": [],
   "source": [
    "#Spectral index between 5 GHz and 2 GHz\n",
    "\n"
   ]
  }
 ],
 "metadata": {
  "kernelspec": {
   "display_name": "Python 3",
   "language": "python",
   "name": "python3"
  },
  "language_info": {
   "codemirror_mode": {
    "name": "ipython",
    "version": 2
   },
   "file_extension": ".py",
   "mimetype": "text/x-python",
   "name": "python",
   "nbconvert_exporter": "python",
   "pygments_lexer": "ipython2",
   "version": "2.7.13"
  }
 },
 "nbformat": 4,
 "nbformat_minor": 2
}
