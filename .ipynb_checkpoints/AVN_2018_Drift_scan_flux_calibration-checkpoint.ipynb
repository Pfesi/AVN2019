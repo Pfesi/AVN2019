{
 "cells": [
  {
   "cell_type": "markdown",
   "metadata": {},
   "source": [
    "# Radio flux density calibration\n",
    "##### Originally produced by Sharmilla Goedhart\n",
    "##### Revised by Pfesi van Zyl for AVN school 2018"
   ]
  },
  {
   "cell_type": "markdown",
   "metadata": {},
   "source": [
    "The underlying science goal is to monitor the flux density variations of radio sources.\n",
    "What we actually measure is signal strength over a defined band by a radiometer (source counts). \n",
    "This output signal from the radiometer is proportional to the sytem temperature \n",
    "from which we can extract the antenna temperature in Kelvins. \n",
    "\n",
    "\n",
    "\n",
    "What we want is flux density in Jy.\n",
    "\n",
    "We use known flux calibrators - continuum point sources that are well characterised and stable - to give us a conversion factor between antenna temperature and flux density.  This is known as the Point Source Sensitivity (PSS). The inverse of this number is the gain $G$.  \n",
    "\n",
    "The relation between the flux density $S$ of an unresolved source and the antenna temperature $T_A$ due to that source is given by \n",
    "$$ S = \\frac{2kT_A}{eA}$$\n",
    "    \n",
    "where $k$ is Boltzmann's constant, $e$ is the apperture efficiency and $A$ is the geometric area of the aperture.\n",
    "\n",
    "We define the gain as\n",
    "$$G= \\frac{T_A}{S} $$\n",
    "\n",
    "A common measure of antenna performance is the system equivalent flux density (SEFD), which is the flux density that a source would have to have in order to double the measured system temperature.\n",
    "$$SEFD = \\frac {T_{sys}}{G}$$\n",
    "\n",
    "The 26-m has slight variations in pointing, so in order to make sure we accurately measure the peak flux of the source, we do a series of drift scans at the expected north and south half-power points, as well as the centre.  Basically we park the telescope at a coordinate just ahead of where the source currently is in the sky, and wait for earth's rotation to carry the telescope beam across the source.  The advantage of this is that you don't have to worry about whether your telescope can drive  at a consistent speed across the source.  The 26-m tracks perfectly at sidereal rate, but is not very good at higher speeds.  Other telescopes may choose to use on-the-fly scans, where they sample the power at a high rate while slewing across the source.\n"
   ]
  },
  {
   "cell_type": "code",
   "execution_count": null,
   "metadata": {
    "collapsed": true
   },
   "outputs": [],
   "source": []
  }
 ],
 "metadata": {
  "kernelspec": {
   "display_name": "Python 3",
   "language": "python",
   "name": "python3"
  },
  "language_info": {
   "codemirror_mode": {
    "name": "ipython",
    "version": 2
   },
   "file_extension": ".py",
   "mimetype": "text/x-python",
   "name": "python",
   "nbconvert_exporter": "python",
   "pygments_lexer": "ipython2",
   "version": "2.7.13"
  }
 },
 "nbformat": 4,
 "nbformat_minor": 2
}
