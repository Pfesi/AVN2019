{
 "cells": [
  {
   "cell_type": "markdown",
   "metadata": {},
   "source": [
    "# Drift scan continuum data processing tutorials\n",
    "\n",
    "##### By Pfesi van Zyl for AVN school 2018\n",
    "##### Last updated: 7 March 2018"
   ]
  },
  {
   "cell_type": "markdown",
   "metadata": {},
   "source": [
    "The objective of this notebook is to help you get familiar with continuum \n",
    "data reductions. We have provided a step by step guide designed to show \n",
    "you how to extract data from fits files and calibrate the telescope to \n",
    "get target source flux density estimates for your single dish radio sources. \n",
    "At the end of this tutorial you should be able to \n",
    "\n",
    "* Estimate the antenna temperature of a source\n",
    "* Calculate the point source sensitivity \n",
    "* Calculate the flux density of a target source, as well as \n",
    "* Calculate a two point spectral index\n",
    "\n",
    "\n",
    "** If there is anything you don't understand **\n",
    "\n",
    "![confused minion - image credit: FBCoverStreet.com](images/confused_minion.jpg)\n",
    "\n",
    "\n",
    "** please feel free to contact me: **\n",
    "\n",
    "** Email: pfesesani@hartrao.ac.za **"
   ]
  },
  {
   "cell_type": "markdown",
   "metadata": {},
   "source": [
    "# 1. Prerequisites\n",
    "\n",
    "In these tutorials we use [Python](https://docs.python.org/3/) as the main language for processing our data. Some previous experience with the Python language will be expected.\n",
    "\n",
    "\n"
   ]
  },
  {
   "cell_type": "markdown",
   "metadata": {},
   "source": [
    "# 2. Setup\n",
    "\n",
    "You do not need to download any extra files. All the files you will need for the tutorial can be found at the [AVN exercizes, data and notes link](http://avntraining.hartrao.ac.za/index.php/schools/2018-feb-march-avn-training-school/99-exercises-data-and-notes). **You need to download the tar file and untar it, then cd into the folder to work from that directory**."
   ]
  },
  {
   "cell_type": "markdown",
   "metadata": {
    "collapsed": true
   },
   "source": [
    "# 3. Lets get started:\n",
    "\n",
    "\n",
    "### Example tutorials:\n",
    "To start the tutorial click on the 12Ghz Hydra A link. \n",
    "\n",
    "* [Calibrator - 12Ghz Hydra A ](12GHz_HydraA_tutorial.ipynb)\n",
    "* [Target - 12Ghz J1427-4206 ](12GHz_j1427-4206_tutorial.ipynb)\n",
    "* [Calibrator - 5Ghz Hydra A ](5GHz_HydraA_tutorial.ipynb)\n",
    "* [Target - 5Ghz J1427-4206 ](5GHz_j1427-4206_tutorial.ipynb)\n",
    "* [Two point Spectral index estimation](spectral_index.ipynb)\n",
    "\n",
    "### Homework tutorials:\n",
    "* [8.3Ghz Hydra A calibration](8GHz_HydraA_tutorial.ipynb)\n",
    "* [8.3Ghz J1427-4206 flux density estimation](8GHz_j1427-4206_tutorial.ipynb)\n",
    "* [2Ghz Hydra A calibration](2GHz_HydraA_tutorial.ipynb)\n",
    "* [2Ghz J1427-4206 flux density estimation](2GHz_J1427-4206_tutorial.ipynb)\n"
   ]
  }
 ],
 "metadata": {
  "kernelspec": {
   "display_name": "Python 2",
   "language": "python",
   "name": "python2"
  },
  "language_info": {
   "codemirror_mode": {
    "name": "ipython",
    "version": 2
   },
   "file_extension": ".py",
   "mimetype": "text/x-python",
   "name": "python",
   "nbconvert_exporter": "python",
   "pygments_lexer": "ipython2",
   "version": "2.7.13"
  }
 },
 "nbformat": 4,
 "nbformat_minor": 1
}
