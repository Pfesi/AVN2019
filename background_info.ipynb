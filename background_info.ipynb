{
 "cells": [
  {
   "cell_type": "markdown",
   "metadata": {},
   "source": [
    "# Background \n",
    "\n",
    "\n",
    "** Aim **\n",
    "- Our science goal is to monitor the flux density variations of radio sources. \n",
    "\n",
    "![variability img](images/img1.png)\n",
    "\n",
    "\n",
    "# MSc work\n",
    "\n",
    "Observing blazar source PKS 1424-418\n",
    "\n",
    "##### Blazar model\n",
    "![Blazar_model](images/Blazar_model.jpg)\n",
    "![Blazar](images/blazars.png)\n",
    "\n",
    "##### Radio observations\n",
    "![Radio](images/img8.png)\n",
    "![Radio obs](images/img4.png)\n",
    "\n",
    "##### Gamma-ray observations\n",
    "![Atels](images/img6.png)\n",
    "![Gamma obs](images/img3.png)\n",
    "\n",
    "![Fermi-LAT](images/img7.png)\n",
    "\n",
    "![fermi coincidence](images/fermi.png)\n",
    "Image credit: https://3c1703fe8d.site.internapcdn.net/newman/gfx/news/hires/2016/possibleextr.jpg\n",
    "\n",
    "\n",
    "\n",
    "# Other peoples work\n",
    "\n",
    "##### Ice cube \n",
    "\n",
    "\n",
    "\n",
    "\n",
    "\n",
    "![1](images/img10.png)\n",
    "![1](images/img11.png)\n",
    "\n",
    "# To read about this\n",
    "[Kadler et. al 2012 Paper](https://arxiv.org/abs/1602.02012)\n",
    "\n"
   ]
  },
  {
   "cell_type": "code",
   "execution_count": 13,
   "metadata": {},
   "outputs": [
    {
     "data": {
      "text/html": [
       "<iframe src='https://www.dst.gov.za/index.php/media-room/latest-news/1762-hartrao-helps-to-find-big-birds-nest' width='1000' height='500'></iframe>"
      ],
      "text/plain": [
       "<IPython.core.display.HTML object>"
      ]
     },
     "execution_count": 13,
     "metadata": {},
     "output_type": "execute_result"
    }
   ],
   "source": [
    "from IPython.display import Image,HTML\n",
    "# View source \n",
    "HTML(\"<iframe src='https://www.dst.gov.za/index.php/media-room/latest-news/1762-hartrao-helps-to-find-big-birds-nest' width='1000' height='500'></iframe>\")"
   ]
  },
  {
   "cell_type": "markdown",
   "metadata": {},
   "source": [
    "# What our source looks like today\n",
    "\n",
    "\n",
    "[latest pks1424-418](https://fermi.gsfc.nasa.gov/ssc/data/access/lat/msl_lc/source/PKS_1424-41)\n",
    "\n"
   ]
  },
  {
   "cell_type": "code",
   "execution_count": 15,
   "metadata": {},
   "outputs": [
    {
     "data": {
      "text/html": [
       "<iframe src='https://fermi.gsfc.nasa.gov/ssc/data/access/lat/msl_lc/source/PKS_1424-41' width='1000' height='500'></iframe>"
      ],
      "text/plain": [
       "<IPython.core.display.HTML object>"
      ]
     },
     "execution_count": 15,
     "metadata": {},
     "output_type": "execute_result"
    }
   ],
   "source": [
    "\n",
    "# View source \n",
    "HTML(\"<iframe src='https://fermi.gsfc.nasa.gov/ssc/data/access/lat/msl_lc/source/PKS_1424-41' width='1000' height='500'></iframe>\")"
   ]
  },
  {
   "cell_type": "markdown",
   "metadata": {},
   "source": [
    "# How do we achieve this ? \n",
    "\n",
    "When you observe a radio emitting source, what you actually measure is the signal strength over a defined band through a radiometer. This signal output \n",
    "from the radiometer is equivalent to the sum of the radio emission received from all externally contributing sources referred to as the system temperature ($T_{sys}$) in Kelvins given by\n",
    "\n",
    "$$T_{sys} = T_{Bcmb} + T_{A} + T_{at} + T_{wv} + T_{g} + T_{R} [K]$$\n",
    "\n",
    "where $T_{sys}$ is a combination of contributions from the:\n",
    "\n",
    "   * $T_{Bcmb}$ - cosmic microwave background\n",
    "   * $T_{A}$ - antenna temperature\n",
    "   * $T_{at}$ - dry atmosphere\n",
    "   * $T_{wv}$ - water vapour\n",
    "   * $T_{g}$ - ground, and \n",
    "   * $T_{R}$ - receiver noise.\n",
    "  \n",
    "The contribution from $T_A$ is not an actual representation of the physical temperature of the antenna. Instead it represents an increase in temperature (receiver output) measured when the antenna is pointed at a radio-emitting source.\n",
    "\n",
    "** What we want is flux density ($S$) in Jy. **\n",
    "\n",
    "The relation between the flux density $S$ of an unresolved source and the antenna temperature $T_A$ due to that source is given by \n",
    "\n",
    "$$ S = \\frac{2 k_{B}T_{A}}{A_{e}}$$\n",
    "\n",
    "where :\n",
    "\n",
    "   * $k_{B}$ is the Boltzmanns constant\n",
    "   * $A_{e}$ - telescope effective area\n",
    "   \n",
    "It is important to note that the flux density of a radio source is intrinsic to it, and the same flux density should \n",
    "be measured by any properly calibrated telescope. So rather than using units of effecive area we use a measure \n",
    "of the sensitivity of the telescope known as the Point Source Sensitivity ($PSS$) as a conversion factor. The PSS\n",
    "is the number of Kelvins of antenna temperature per polarisation, obtained per \n",
    "Jansky of source flux density\n",
    "\n",
    "$$ PSS = \\frac{S_{o}/2}{T_{A}} [Jy K^{-1} polarization^{-1}]$$\n",
    "\n",
    "We get the PSS from observations of a source with a well known flux density called a flux calibrator \n",
    "(i.e. a continuum point source characterised by having a non-variable flux density over long time-scales). \n",
    "\n",
    "\n"
   ]
  },
  {
   "cell_type": "markdown",
   "metadata": {},
   "source": [
    "### Tutorial:\n",
    "To start the tutorial click on the 12Ghz Hydra A link. \n",
    "\n",
    "* [Calibrator - 12Ghz Hydra A ](12GHz_HydraA_tutorial.ipynb)\n",
    "* [Target - 12Ghz J1427-4206 ](12GHz_j1427-4206_tutorial.ipynb)\n",
    "\n",
    "\n",
    "### Extra-work tutorials:\n",
    "* [Calibrator - 5Ghz Hydra A ](5GHz_HydraA_tutorial.ipynb)\n",
    "* [Target - 5Ghz J1427-4206 ](5GHz_j1427-4206_tutorial.ipynb)\n",
    "* [8.3Ghz Hydra A calibration](8GHz_HydraA_tutorial.ipynb)\n",
    "* [8.3Ghz J1427-4206 flux density estimation](8GHz_j1427-4206_tutorial.ipynb)\n",
    "* [2Ghz Hydra A calibration](2GHz_HydraA_tutorial.ipynb)\n",
    "* [2Ghz J1427-4206 flux density estimation](2GHz_J1427-4206_tutorial.ipynb)"
   ]
  }
 ],
 "metadata": {
  "kernelspec": {
   "display_name": "Python 3",
   "language": "python",
   "name": "python3"
  },
  "language_info": {
   "codemirror_mode": {
    "name": "ipython",
    "version": 3
   },
   "file_extension": ".py",
   "mimetype": "text/x-python",
   "name": "python",
   "nbconvert_exporter": "python",
   "pygments_lexer": "ipython3",
   "version": "3.7.3"
  }
 },
 "nbformat": 4,
 "nbformat_minor": 2
}
