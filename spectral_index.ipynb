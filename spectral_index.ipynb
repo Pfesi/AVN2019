{
 "cells": [
  {
   "cell_type": "markdown",
   "metadata": {
    "collapsed": true
   },
   "source": [
    "# Two point Spectral index"
   ]
  },
  {
   "cell_type": "markdown",
   "metadata": {},
   "source": [
    "Calculate the two point spectral index between two frequencies.\n",
    "\n",
    "We will be following the -ve alpha convention, where:\n",
    "\n",
    "$$ \\alpha = \\frac{log(S_{1}/S_{2})}{log(v_{1}/v_{2})}$$\n",
    "\n",
    "$\\alpha = -2 : Thermal$\n",
    "\n",
    "$\\alpha > -2 : Non-thermal$"
   ]
  },
  {
   "cell_type": "code",
   "execution_count": null,
   "metadata": {
    "collapsed": true
   },
   "outputs": [],
   "source": [
    "#Spectral index between 12 GHz and 5 GHz\n",
    "\n",
    "import numpy as np\n",
    "\n",
    "s12 = 9.197 \n",
    "s5  = 5.499\n",
    "\n",
    "v12 = 12218.593\n",
    "v5  = 4800.000\n",
    "\n",
    "def calc_spectral_index(sh,sl,vh,vl):\n",
    "    \"\"\"\n",
    "        Calculate the spectral index\n",
    "    \"\"\"\n",
    "     \n",
    "    alpha = np.log(sh/sl) / np.log(vl/vh)\n",
    "\n",
    "    print \"The index is: %.3f\" %alpha\n"
   ]
  },
  {
   "cell_type": "code",
   "execution_count": null,
   "metadata": {},
   "outputs": [],
   "source": [
    "#Spectral index between 12 GHz and 8 GHz\n",
    "\n",
    "calc_spectral_index(s12,s5,v12,v5)"
   ]
  }
 ],
 "metadata": {
  "kernelspec": {
   "display_name": "Python 3",
   "language": "python",
   "name": "python3"
  },
  "language_info": {
   "codemirror_mode": {
    "name": "ipython",
    "version": 2
   },
   "file_extension": ".py",
   "mimetype": "text/x-python",
   "name": "python",
   "nbconvert_exporter": "python",
   "pygments_lexer": "ipython2",
   "version": "2.7.13"
  }
 },
 "nbformat": 4,
 "nbformat_minor": 2
}
